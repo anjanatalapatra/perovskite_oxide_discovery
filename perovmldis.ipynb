{
 "cells": [
  {
   "cell_type": "markdown",
   "metadata": {},
   "source": [
    "## Computational Workflow Schematic\n",
    "![Computational Workflow Schematic](images/fig_3.png)"
   ]
  },
  {
   "cell_type": "markdown",
   "metadata": {},
   "source": [
    "# Insulator classification and Band gap Regression models for Double Oxide Perovskites\n",
    "We implement two models in this notebook.\n",
    "\n",
    "\n",
    "## i) Classification model \n",
    "- To separate materials that have a bandgap greater than 0.5 eV (Insulators) from those that have a very narrow band gap ( < 0.5 eV).\n",
    "\n",
    "## ii) Regression model \n",
    "- To predict the band gap of materials classified by (i) as insulators"
   ]
  },
  {
   "cell_type": "markdown",
   "metadata": {},
   "source": [
    "We will first look at how we build these models and then look at applying them on unseen data to predict new materials"
   ]
  },
  {
   "cell_type": "markdown",
   "metadata": {},
   "source": [
    "### Since we are working with large datasets, we use the python [pickle](https://docs.python.org/3/library/pickle.html) module to manage our dataset. So we load our data management packages and some utility functions we have written to prepare the data for the models."
   ]
  },
  {
   "cell_type": "code",
   "execution_count": null,
   "metadata": {},
   "outputs": [],
   "source": [
    "import pickle\n",
    "import pandas as pd\n",
    "import perovmldis.engine as en\n",
    "from perovmldis.data_utilities.generate_data import generate_feature_labels, csv_to_json, prepare_data"
   ]
  },
  {
   "cell_type": "markdown",
   "metadata": {},
   "source": [
    "###  Next, we load our training compounds and elemental data"
   ]
  },
  {
   "cell_type": "code",
   "execution_count": null,
   "metadata": {},
   "outputs": [],
   "source": [
    "with open('data/training_compounds.pkl', 'rb') as f:\n",
    "                training_compounds = pickle.load(f)\n",
    "with open('data/element_data.pkl', 'rb') as f:\n",
    "                ele_data = pickle.load(f)"
   ]
  },
  {
   "cell_type": "code",
   "execution_count": null,
   "metadata": {},
   "outputs": [],
   "source": [
    "ele_data['Al'].keys()"
   ]
  },
  {
   "cell_type": "code",
   "execution_count": null,
   "metadata": {},
   "outputs": [],
   "source": [
    "training_compounds[10].keys()"
   ]
  },
  {
   "cell_type": "markdown",
   "metadata": {},
   "source": [
    "### Then, we populate the training data with all the features we have finalized"
   ]
  },
  {
   "cell_type": "code",
   "execution_count": null,
   "metadata": {},
   "outputs": [],
   "source": [
    "dft_training_data = en.create_perovskite_stability_training_data(training_compounds, ele_data)"
   ]
  },
  {
   "cell_type": "code",
   "execution_count": null,
   "metadata": {},
   "outputs": [],
   "source": [
    "training_compounds[10].keys()"
   ]
  },
  {
   "cell_type": "code",
   "execution_count": null,
   "metadata": {},
   "outputs": [],
   "source": [
    "training_compounds[1200]"
   ]
  },
  {
   "cell_type": "markdown",
   "metadata": {},
   "source": [
    "## Classification of oxide perovskites into narrow and wide band gap materials\n",
    "\n",
    "### Use the training data to train the classification model. We also print out the performance metrics, confusion matrices (we use a 80/20 split for training and testing)  and plot the feature importances"
   ]
  },
  {
   "cell_type": "code",
   "execution_count": null,
   "metadata": {},
   "outputs": [],
   "source": [
    "insulator_feature_list, test_features,test_labels,insulator_clf = en.run_insulator_classification(dft_training_data)"
   ]
  },
  {
   "cell_type": "markdown",
   "metadata": {},
   "source": [
    "## Next, we analyze the performance of our classification model, my plotting the performance curves: \n",
    "\n",
    "i) The Receiver Operating Characteristic (ROC) curve\n",
    "\n",
    "ii) Precision Recall (PR) curve\n",
    "\n",
    "Ideally, you will spend some time fine tuning your model, adding more training data if necessary, until you are satisfied with the performance. Here we show our finished models."
   ]
  },
  {
   "cell_type": "code",
   "execution_count": null,
   "metadata": {},
   "outputs": [],
   "source": [
    "from perovmldis.ML_utilities.ML_plotting import plot_roc_curves\n",
    "plot_roc_curves(test_features,test_labels, insulator_clf)"
   ]
  },
  {
   "cell_type": "markdown",
   "metadata": {},
   "source": [
    "## Regression model to predict band gap  of oxide perovskites expected to have a wide band gap\n",
    "\n",
    "### First, we extract the training data for band gap regression. We train the regression model only using those data which have a wide band gap ( > 0.5 eV)\n"
   ]
  },
  {
   "cell_type": "code",
   "execution_count": null,
   "metadata": {},
   "outputs": [],
   "source": [
    "bandgap_training_data = en.create_bandgap_regression_training_data(training_compounds, ele_data)"
   ]
  },
  {
   "cell_type": "markdown",
   "metadata": {},
   "source": [
    "## Plot the training data"
   ]
  },
  {
   "cell_type": "code",
   "execution_count": null,
   "metadata": {},
   "outputs": [],
   "source": [
    "import matplotlib.pyplot as plt\n",
    "import pandas as pd\n",
    "plot_data = pd.DataFrame(bandgap_training_data)\n",
    "fig, ax = plt.subplots()\n",
    "x = plot_data['PBE_band_gap'].values\n",
    "n, bins, patches = plt.hist(x, 50, facecolor='g', alpha=0.75)\n",
    "plt.xlabel('PBE band gap (eV)',fontsize=12) \n",
    "plt.ylabel('Bin count',fontsize=12) \n",
    "plt.grid(linestyle='--', linewidth='0.5')"
   ]
  },
  {
   "cell_type": "markdown",
   "metadata": {},
   "source": [
    "##  Use the training data to train the regression model. \n",
    "\n",
    "### We also print out the performance metrics and plot the feature importances, the parity curves for training and testing and the confidence intervals\n",
    "\n",
    "We use a 80/20 split for training and testing"
   ]
  },
  {
   "cell_type": "code",
   "execution_count": null,
   "metadata": {},
   "outputs": [],
   "source": [
    "regression_feature_list, best_estimator = en.run_bandgap_regression(bandgap_training_data)"
   ]
  },
  {
   "cell_type": "markdown",
   "metadata": {},
   "source": [
    "## Predict new oxide perovskites with wide band gap"
   ]
  },
  {
   "cell_type": "code",
   "execution_count": null,
   "metadata": {},
   "outputs": [],
   "source": [
    "all_candidates = csv_to_json('data/stable_formable_candidates.csv')\n",
    "print(len(all_candidates))"
   ]
  },
  {
   "cell_type": "markdown",
   "metadata": {},
   "source": [
    "### This is a very large dataset that contains ~500,000 compounds, too large to use in this notebook. So for the purpose of demonstration, we proceed with only 100,000 candidates."
   ]
  },
  {
   "cell_type": "code",
   "execution_count": null,
   "metadata": {},
   "outputs": [],
   "source": [
    "condensed_candidate_data = all_candidates[0:100000]\n",
    "all_candidate_data = prepare_data(condensed_candidate_data,ele_data)"
   ]
  },
  {
   "cell_type": "markdown",
   "metadata": {},
   "source": [
    "### To speed things up, we clear some memory by deleting some data we no longer need"
   ]
  },
  {
   "cell_type": "code",
   "execution_count": null,
   "metadata": {},
   "outputs": [],
   "source": [
    "del dft_training_data \n",
    "del all_candidates\n",
    "import gc\n",
    "gc.collect()"
   ]
  },
  {
   "cell_type": "code",
   "execution_count": null,
   "metadata": {},
   "outputs": [],
   "source": [
    "from perovmldis.ML_utilities.RFC_functions import classify_data\n",
    "insulator_candidates = classify_data(all_candidate_data, insulator_feature_list, insulator_clf, pred_label='predicted_Insulator', data_type='prediction', model_type='insulator')"
   ]
  },
  {
   "cell_type": "markdown",
   "metadata": {},
   "source": [
    "### Of the 1350216 candidates, 16950 are predicted to be insulators"
   ]
  },
  {
   "cell_type": "code",
   "execution_count": null,
   "metadata": {},
   "outputs": [],
   "source": [
    "from perovmldis.ML_utilities.RFR_functions import predict_regression\n",
    "wide_bandgap_data = predict_regression(insulator_candidates, regression_feature_list, best_estimator, pred_label='Predicted_band_gap')"
   ]
  },
  {
   "cell_type": "code",
   "execution_count": null,
   "metadata": {},
   "outputs": [],
   "source": [
    "plot_predicted_data = pd.DataFrame(wide_bandgap_data)\n",
    "fig, ax = plt.subplots()\n",
    "x = plot_predicted_data['Predicted_band_gap'].values\n",
    "n, bins, patches = plt.hist(x, 50, facecolor='g', alpha=0.75)\n",
    "plt.xlabel('Predicted band gap (eV)',fontsize=12) \n",
    "plt.ylabel('Bin count',fontsize=12) \n",
    "plt.grid(linestyle='--', linewidth='0.5')"
   ]
  },
  {
   "cell_type": "markdown",
   "metadata": {},
   "source": [
    "## More analysis: Partial Dependence Plots (PDPs)"
   ]
  },
  {
   "cell_type": "code",
   "execution_count": null,
   "metadata": {},
   "outputs": [],
   "source": [
    "importances = list(best_estimator.feature_importances_)\n",
    "feature_importances = [(feature, round(importance, 5)) for feature, importance in zip(regression_feature_list, importances)]\n",
    "feature_importances = sorted(feature_importances, key = lambda x: x[1], reverse = True)\n",
    "ranked_features = []\n",
    "for i in range(5):\n",
    "    ranked_features.append(feature_importances[i][0])\t\n",
    "dataset = pd.DataFrame(bandgap_training_data)\n",
    "ranked_labels = generate_feature_labels(ranked_features)\n",
    "print(ranked_labels)"
   ]
  },
  {
   "cell_type": "markdown",
   "metadata": {},
   "source": [
    "### We now plot the PDPs for the top three features identified by the regression model."
   ]
  },
  {
   "cell_type": "code",
   "execution_count": null,
   "metadata": {},
   "outputs": [],
   "source": [
    "from perovmldis.ML_utilities.ML_plotting import plot_pdp_plots\n",
    "plot_pdp_plots(best_estimator,dataset,regression_feature_list,ranked_features[0:3],ranked_labels[0:3])"
   ]
  }
 ],
 "metadata": {
  "kernelspec": {
   "display_name": "Python 3",
   "language": "python",
   "name": "python3"
  },
  "language_info": {
   "codemirror_mode": {
    "name": "ipython",
    "version": 3
   },
   "file_extension": ".py",
   "mimetype": "text/x-python",
   "name": "python",
   "nbconvert_exporter": "python",
   "pygments_lexer": "ipython3",
   "version": "3.8.3"
  }
 },
 "nbformat": 4,
 "nbformat_minor": 4
}
